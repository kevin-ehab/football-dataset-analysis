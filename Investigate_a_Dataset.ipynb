{
 "cells": [
  {
   "cell_type": "markdown",
   "metadata": {},
   "source": [
    "# Project: Investigate a Dataset - [Soccer Dataset]\n",
    "\n",
    "## Table of Contents\n",
    "<ul>\n",
    "<li><a href=\"#intro\">Introduction</a></li>\n",
    "<li><a href=\"#wrangling\">Data Wrangling</a></li>\n",
    "<li><a href=\"#eda\">Exploratory Data Analysis</a></li>\n",
    "<li><a href=\"#conclusions\">Conclusions</a></li>\n",
    "</ul>"
   ]
  },
  {
   "cell_type": "markdown",
   "metadata": {},
   "source": [
    "<a id='intro'></a>\n",
    "## Introduction\n",
    "\n",
    "### Dataset Description \n",
    "\n",
    "This is an analysis for a European soccer dataset which contains columns for:\n",
    "<ul>\n",
    "    <li>Country Id</li>\n",
    "    <li>League Id</li>\n",
    "    <li>Season</li>\n",
    "    <li>Stage</li>\n",
    "    <li>Date</li>\n",
    "    <li>Match Api Id</li>\n",
    "    <li>Home Team Api Id</li>\n",
    "    <li>Away Team Api Id</li>\n",
    "    <li>Home Team Goal</li>\n",
    "    <li>Away Team Goal</li>\n",
    "    <li>Player ids</li>\n",
    "</ul>\n",
    "\n",
    "\n",
    "### Question(s) for Analysis\n",
    "<ul>\n",
    "    <li>What is the league with the least and most total goals per match?\n",
    "    <li>What is the league with the lowest and highest percentage of draws per game?\n",
    "    <li>How does scoring home goals correlate to the scoring of the away goals?\n",
    "    <li>Do home teams win more games than away teams?\n",
    "    <li>Do later season matches have more or less goals?\n",
    "</ul>"
   ]
  },
  {
   "cell_type": "code",
   "execution_count": 40,
   "metadata": {},
   "outputs": [],
   "source": [
    "#Import Statements:\n",
    "import pandas as pd\n",
    "import numpy as np\n",
    "import matplotlib.pyplot as plt\n",
    "import seaborn as sns\n",
    "% matplotlib inline"
   ]
  },
  {
   "cell_type": "code",
   "execution_count": 41,
   "metadata": {},
   "outputs": [],
   "source": [
    "#Adding a function to check the cleanliness of the dataset\n",
    "def check(data):\n",
    "    NaN = data.isnull().sum().sum()\n",
    "    print(f\"Number of NaN values: {NaN}\")\n",
    "    dupes = data.duplicated().sum()\n",
    "    print(f\"Number of duplicates: {dupes}\")"
   ]
  },
  {
   "cell_type": "markdown",
   "metadata": {},
   "source": [
    "<a id='wrangling'></a>\n",
    "## Data Wrangling"
   ]
  },
  {
   "cell_type": "code",
   "execution_count": 42,
   "metadata": {},
   "outputs": [
    {
     "data": {
      "text/html": [
       "<div>\n",
       "<style scoped>\n",
       "    .dataframe tbody tr th:only-of-type {\n",
       "        vertical-align: middle;\n",
       "    }\n",
       "\n",
       "    .dataframe tbody tr th {\n",
       "        vertical-align: top;\n",
       "    }\n",
       "\n",
       "    .dataframe thead th {\n",
       "        text-align: right;\n",
       "    }\n",
       "</style>\n",
       "<table border=\"1\" class=\"dataframe\">\n",
       "  <thead>\n",
       "    <tr style=\"text-align: right;\">\n",
       "      <th></th>\n",
       "      <th>id</th>\n",
       "      <th>country_id</th>\n",
       "      <th>league_id</th>\n",
       "      <th>season</th>\n",
       "      <th>stage</th>\n",
       "      <th>date</th>\n",
       "      <th>match_api_id</th>\n",
       "      <th>home_team_api_id</th>\n",
       "      <th>away_team_api_id</th>\n",
       "      <th>home_team_goal</th>\n",
       "      <th>...</th>\n",
       "      <th>away_player_10</th>\n",
       "      <th>away_player_11</th>\n",
       "      <th>goal</th>\n",
       "      <th>shoton</th>\n",
       "      <th>shotoff</th>\n",
       "      <th>foulcommit</th>\n",
       "      <th>card</th>\n",
       "      <th>cross</th>\n",
       "      <th>corner</th>\n",
       "      <th>possession</th>\n",
       "    </tr>\n",
       "  </thead>\n",
       "  <tbody>\n",
       "    <tr>\n",
       "      <th>25974</th>\n",
       "      <td>25975</td>\n",
       "      <td>Switzerland</td>\n",
       "      <td>Switzerland Super League</td>\n",
       "      <td>2015/2016</td>\n",
       "      <td>9</td>\n",
       "      <td>22/09/2015 0:00</td>\n",
       "      <td>1992091</td>\n",
       "      <td>FC St. Gallen</td>\n",
       "      <td>FC Thun</td>\n",
       "      <td>1</td>\n",
       "      <td>...</td>\n",
       "      <td>232110.0</td>\n",
       "      <td>289732.0</td>\n",
       "      <td>NaN</td>\n",
       "      <td>NaN</td>\n",
       "      <td>NaN</td>\n",
       "      <td>NaN</td>\n",
       "      <td>NaN</td>\n",
       "      <td>NaN</td>\n",
       "      <td>NaN</td>\n",
       "      <td>NaN</td>\n",
       "    </tr>\n",
       "    <tr>\n",
       "      <th>25975</th>\n",
       "      <td>25976</td>\n",
       "      <td>Switzerland</td>\n",
       "      <td>Switzerland Super League</td>\n",
       "      <td>2015/2016</td>\n",
       "      <td>9</td>\n",
       "      <td>23/09/2015 0:00</td>\n",
       "      <td>1992092</td>\n",
       "      <td>FC Vaduz</td>\n",
       "      <td>FC Luzern</td>\n",
       "      <td>1</td>\n",
       "      <td>...</td>\n",
       "      <td>34082.0</td>\n",
       "      <td>95257.0</td>\n",
       "      <td>NaN</td>\n",
       "      <td>NaN</td>\n",
       "      <td>NaN</td>\n",
       "      <td>NaN</td>\n",
       "      <td>NaN</td>\n",
       "      <td>NaN</td>\n",
       "      <td>NaN</td>\n",
       "      <td>NaN</td>\n",
       "    </tr>\n",
       "    <tr>\n",
       "      <th>25976</th>\n",
       "      <td>25977</td>\n",
       "      <td>Switzerland</td>\n",
       "      <td>Switzerland Super League</td>\n",
       "      <td>2015/2016</td>\n",
       "      <td>9</td>\n",
       "      <td>23/09/2015 0:00</td>\n",
       "      <td>1992093</td>\n",
       "      <td>Grasshopper Club Zürich</td>\n",
       "      <td>FC Sion</td>\n",
       "      <td>2</td>\n",
       "      <td>...</td>\n",
       "      <td>451335.0</td>\n",
       "      <td>275122.0</td>\n",
       "      <td>NaN</td>\n",
       "      <td>NaN</td>\n",
       "      <td>NaN</td>\n",
       "      <td>NaN</td>\n",
       "      <td>NaN</td>\n",
       "      <td>NaN</td>\n",
       "      <td>NaN</td>\n",
       "      <td>NaN</td>\n",
       "    </tr>\n",
       "    <tr>\n",
       "      <th>25977</th>\n",
       "      <td>25978</td>\n",
       "      <td>Switzerland</td>\n",
       "      <td>Switzerland Super League</td>\n",
       "      <td>2015/2016</td>\n",
       "      <td>9</td>\n",
       "      <td>22/09/2015 0:00</td>\n",
       "      <td>1992094</td>\n",
       "      <td>Lugano</td>\n",
       "      <td>FC Zürich</td>\n",
       "      <td>0</td>\n",
       "      <td>...</td>\n",
       "      <td>92252.0</td>\n",
       "      <td>194532.0</td>\n",
       "      <td>NaN</td>\n",
       "      <td>NaN</td>\n",
       "      <td>NaN</td>\n",
       "      <td>NaN</td>\n",
       "      <td>NaN</td>\n",
       "      <td>NaN</td>\n",
       "      <td>NaN</td>\n",
       "      <td>NaN</td>\n",
       "    </tr>\n",
       "    <tr>\n",
       "      <th>25978</th>\n",
       "      <td>25979</td>\n",
       "      <td>Switzerland</td>\n",
       "      <td>Switzerland Super League</td>\n",
       "      <td>2015/2016</td>\n",
       "      <td>9</td>\n",
       "      <td>23/09/2015 0:00</td>\n",
       "      <td>1992095</td>\n",
       "      <td>BSC Young Boys</td>\n",
       "      <td>FC Basel</td>\n",
       "      <td>4</td>\n",
       "      <td>...</td>\n",
       "      <td>41726.0</td>\n",
       "      <td>527103.0</td>\n",
       "      <td>NaN</td>\n",
       "      <td>NaN</td>\n",
       "      <td>NaN</td>\n",
       "      <td>NaN</td>\n",
       "      <td>NaN</td>\n",
       "      <td>NaN</td>\n",
       "      <td>NaN</td>\n",
       "      <td>NaN</td>\n",
       "    </tr>\n",
       "  </tbody>\n",
       "</table>\n",
       "<p>5 rows × 85 columns</p>\n",
       "</div>"
      ],
      "text/plain": [
       "          id   country_id                 league_id     season  stage  \\\n",
       "25974  25975  Switzerland  Switzerland Super League  2015/2016      9   \n",
       "25975  25976  Switzerland  Switzerland Super League  2015/2016      9   \n",
       "25976  25977  Switzerland  Switzerland Super League  2015/2016      9   \n",
       "25977  25978  Switzerland  Switzerland Super League  2015/2016      9   \n",
       "25978  25979  Switzerland  Switzerland Super League  2015/2016      9   \n",
       "\n",
       "                  date  match_api_id         home_team_api_id  \\\n",
       "25974  22/09/2015 0:00       1992091            FC St. Gallen   \n",
       "25975  23/09/2015 0:00       1992092                 FC Vaduz   \n",
       "25976  23/09/2015 0:00       1992093  Grasshopper Club Zürich   \n",
       "25977  22/09/2015 0:00       1992094                   Lugano   \n",
       "25978  23/09/2015 0:00       1992095           BSC Young Boys   \n",
       "\n",
       "      away_team_api_id  home_team_goal     ...      away_player_10  \\\n",
       "25974          FC Thun               1     ...            232110.0   \n",
       "25975        FC Luzern               1     ...             34082.0   \n",
       "25976          FC Sion               2     ...            451335.0   \n",
       "25977        FC Zürich               0     ...             92252.0   \n",
       "25978         FC Basel               4     ...             41726.0   \n",
       "\n",
       "       away_player_11  goal  shoton  shotoff  foulcommit  card  cross  corner  \\\n",
       "25974        289732.0   NaN     NaN      NaN         NaN   NaN    NaN     NaN   \n",
       "25975         95257.0   NaN     NaN      NaN         NaN   NaN    NaN     NaN   \n",
       "25976        275122.0   NaN     NaN      NaN         NaN   NaN    NaN     NaN   \n",
       "25977        194532.0   NaN     NaN      NaN         NaN   NaN    NaN     NaN   \n",
       "25978        527103.0   NaN     NaN      NaN         NaN   NaN    NaN     NaN   \n",
       "\n",
       "       possession  \n",
       "25974         NaN  \n",
       "25975         NaN  \n",
       "25976         NaN  \n",
       "25977         NaN  \n",
       "25978         NaN  \n",
       "\n",
       "[5 rows x 85 columns]"
      ]
     },
     "execution_count": 42,
     "metadata": {},
     "output_type": "execute_result"
    }
   ],
   "source": [
    "df = pd.read_csv(\"Match.csv\") #Reading the CSV file\n",
    "df.tail() #Getting 5 rows from the end"
   ]
  },
  {
   "cell_type": "code",
   "execution_count": 43,
   "metadata": {},
   "outputs": [
    {
     "name": "stdout",
     "output_type": "stream",
     "text": [
      "<class 'pandas.core.frame.DataFrame'>\n",
      "RangeIndex: 25979 entries, 0 to 25978\n",
      "Data columns (total 85 columns):\n",
      "id                  25979 non-null int64\n",
      "country_id          25979 non-null object\n",
      "league_id           25979 non-null object\n",
      "season              25979 non-null object\n",
      "stage               25979 non-null int64\n",
      "date                25979 non-null object\n",
      "match_api_id        25979 non-null int64\n",
      "home_team_api_id    25979 non-null object\n",
      "away_team_api_id    25979 non-null object\n",
      "home_team_goal      25979 non-null int64\n",
      "away_team_goal      25979 non-null int64\n",
      "home_player_X1      24158 non-null float64\n",
      "home_player_X2      24158 non-null float64\n",
      "home_player_X3      24147 non-null float64\n",
      "home_player_X4      24147 non-null float64\n",
      "home_player_X5      24147 non-null float64\n",
      "home_player_X6      24147 non-null float64\n",
      "home_player_X7      24147 non-null float64\n",
      "home_player_X8      24147 non-null float64\n",
      "home_player_X9      24147 non-null float64\n",
      "home_player_X10     24147 non-null float64\n",
      "home_player_X11     24147 non-null float64\n",
      "away_player_X1      24147 non-null float64\n",
      "away_player_X2      24147 non-null float64\n",
      "away_player_X3      24147 non-null float64\n",
      "away_player_X4      24147 non-null float64\n",
      "away_player_X5      24147 non-null float64\n",
      "away_player_X6      24147 non-null float64\n",
      "away_player_X7      24147 non-null float64\n",
      "away_player_X8      24147 non-null float64\n",
      "away_player_X9      24146 non-null float64\n",
      "away_player_X10     24146 non-null float64\n",
      "away_player_X11     24140 non-null float64\n",
      "home_player_Y1      24158 non-null float64\n",
      "home_player_Y2      24158 non-null float64\n",
      "home_player_Y3      24147 non-null float64\n",
      "home_player_Y4      24147 non-null float64\n",
      "home_player_Y5      24147 non-null float64\n",
      "home_player_Y6      24147 non-null float64\n",
      "home_player_Y7      24147 non-null float64\n",
      "home_player_Y8      24147 non-null float64\n",
      "home_player_Y9      24147 non-null float64\n",
      "home_player_Y10     24147 non-null float64\n",
      "home_player_Y11     24147 non-null float64\n",
      "away_player_Y1      24147 non-null float64\n",
      "away_player_Y2      24147 non-null float64\n",
      "away_player_Y3      24147 non-null float64\n",
      "away_player_Y4      24147 non-null float64\n",
      "away_player_Y5      24147 non-null float64\n",
      "away_player_Y6      24147 non-null float64\n",
      "away_player_Y7      24147 non-null float64\n",
      "away_player_Y8      24147 non-null float64\n",
      "away_player_Y9      24146 non-null float64\n",
      "away_player_Y10     24146 non-null float64\n",
      "away_player_Y11     24140 non-null float64\n",
      "home_player_1       24755 non-null float64\n",
      "home_player_2       24664 non-null float64\n",
      "home_player_3       24698 non-null float64\n",
      "home_player_4       24656 non-null float64\n",
      "home_player_5       24663 non-null float64\n",
      "home_player_6       24654 non-null float64\n",
      "home_player_7       24752 non-null float64\n",
      "home_player_8       24670 non-null float64\n",
      "home_player_9       24706 non-null float64\n",
      "home_player_10      24543 non-null float64\n",
      "home_player_11      24424 non-null float64\n",
      "away_player_1       24745 non-null float64\n",
      "away_player_2       24701 non-null float64\n",
      "away_player_3       24686 non-null float64\n",
      "away_player_4       24658 non-null float64\n",
      "away_player_5       24644 non-null float64\n",
      "away_player_6       24666 non-null float64\n",
      "away_player_7       24744 non-null float64\n",
      "away_player_8       24638 non-null float64\n",
      "away_player_9       24651 non-null float64\n",
      "away_player_10      24538 non-null float64\n",
      "away_player_11      24425 non-null float64\n",
      "goal                14217 non-null object\n",
      "shoton              14217 non-null object\n",
      "shotoff             14217 non-null object\n",
      "foulcommit          14217 non-null object\n",
      "card                14217 non-null object\n",
      "cross               14217 non-null object\n",
      "corner              14217 non-null object\n",
      "possession          14217 non-null object\n",
      "dtypes: float64(66), int64(5), object(14)\n",
      "memory usage: 16.8+ MB\n"
     ]
    }
   ],
   "source": [
    "df.info() # to know the columns with NaN values"
   ]
  },
  {
   "cell_type": "markdown",
   "metadata": {},
   "source": [
    "\n",
    "### Data Cleaning"
   ]
  },
  {
   "cell_type": "markdown",
   "metadata": {},
   "source": [
    "#### Checking the cleanliness:"
   ]
  },
  {
   "cell_type": "code",
   "execution_count": 44,
   "metadata": {},
   "outputs": [
    {
     "name": "stdout",
     "output_type": "stream",
     "text": [
      "Number of NaN values: 203935\n",
      "Number of duplicates: 0\n"
     ]
    }
   ],
   "source": [
    "check(df) #Using the function \"check\""
   ]
  },
  {
   "cell_type": "markdown",
   "metadata": {},
   "source": [
    "<h3> Removing columns with NaN values:</h3>\n",
    "<h4> We see that a lot of the columns are full of missing values that we cannot replace, so, i decided to remove them."
   ]
  },
  {
   "cell_type": "code",
   "execution_count": 45,
   "metadata": {},
   "outputs": [
    {
     "data": {
      "text/plain": [
       "0"
      ]
     },
     "execution_count": 45,
     "metadata": {},
     "output_type": "execute_result"
    }
   ],
   "source": [
    "df_cleaned = df.dropna(axis = 1) # Dropping NaN columns\n",
    "df_cleaned = df_cleaned.copy() # Making it a distinct copy from the original df\n",
    "df_cleaned.isnull().sum().sum() # to check for NaN values"
   ]
  },
  {
   "cell_type": "code",
   "execution_count": 46,
   "metadata": {},
   "outputs": [
    {
     "name": "stdout",
     "output_type": "stream",
     "text": [
      "Number of NaN values: 0\n",
      "Number of duplicates: 0\n"
     ]
    }
   ],
   "source": [
    "check(df_cleaned) #Using the function \"check\" to make sure that the data is clean"
   ]
  },
  {
   "cell_type": "markdown",
   "metadata": {},
   "source": [
    "#### Adding a total goals column"
   ]
  },
  {
   "cell_type": "code",
   "execution_count": 47,
   "metadata": {},
   "outputs": [],
   "source": [
    "df_cleaned[\"total_goals\"] = df_cleaned[\"home_team_goal\"] + df_cleaned[\"away_team_goal\"] #Sum of the goals of both teams"
   ]
  },
  {
   "cell_type": "markdown",
   "metadata": {},
   "source": [
    "#### Adding a winner column:"
   ]
  },
  {
   "cell_type": "code",
   "execution_count": 48,
   "metadata": {},
   "outputs": [],
   "source": [
    "df_cleaned[\"winner\"] = [\"Draw\"] * 25979 #Making a column with one word \"Draw\"\n",
    "df_cleaned.loc[df_cleaned[\"home_team_goal\"] > df_cleaned[\"away_team_goal\"] ,\"winner\"] = \"Home\" #Adding the \"Home\" result\n",
    "df_cleaned.loc[df_cleaned[\"home_team_goal\"] < df_cleaned[\"away_team_goal\"] ,\"winner\"] = \"Away\" #Adding the \"Away\" result"
   ]
  },
  {
   "cell_type": "code",
   "execution_count": 49,
   "metadata": {},
   "outputs": [
    {
     "data": {
      "text/html": [
       "<div>\n",
       "<style scoped>\n",
       "    .dataframe tbody tr th:only-of-type {\n",
       "        vertical-align: middle;\n",
       "    }\n",
       "\n",
       "    .dataframe tbody tr th {\n",
       "        vertical-align: top;\n",
       "    }\n",
       "\n",
       "    .dataframe thead th {\n",
       "        text-align: right;\n",
       "    }\n",
       "</style>\n",
       "<table border=\"1\" class=\"dataframe\">\n",
       "  <thead>\n",
       "    <tr style=\"text-align: right;\">\n",
       "      <th></th>\n",
       "      <th>id</th>\n",
       "      <th>country_id</th>\n",
       "      <th>league_id</th>\n",
       "      <th>season</th>\n",
       "      <th>stage</th>\n",
       "      <th>date</th>\n",
       "      <th>match_api_id</th>\n",
       "      <th>home_team_api_id</th>\n",
       "      <th>away_team_api_id</th>\n",
       "      <th>home_team_goal</th>\n",
       "      <th>away_team_goal</th>\n",
       "      <th>total_goals</th>\n",
       "      <th>winner</th>\n",
       "    </tr>\n",
       "  </thead>\n",
       "  <tbody>\n",
       "    <tr>\n",
       "      <th>0</th>\n",
       "      <td>1</td>\n",
       "      <td>Belgium</td>\n",
       "      <td>Belgium Jupiler League</td>\n",
       "      <td>2008/2009</td>\n",
       "      <td>1</td>\n",
       "      <td>17/08/2008 0:00</td>\n",
       "      <td>492473</td>\n",
       "      <td>KRC Genk</td>\n",
       "      <td>Beerschot AC</td>\n",
       "      <td>1</td>\n",
       "      <td>1</td>\n",
       "      <td>2</td>\n",
       "      <td>Draw</td>\n",
       "    </tr>\n",
       "    <tr>\n",
       "      <th>1</th>\n",
       "      <td>2</td>\n",
       "      <td>Belgium</td>\n",
       "      <td>Belgium Jupiler League</td>\n",
       "      <td>2008/2009</td>\n",
       "      <td>1</td>\n",
       "      <td>16/08/2008 0:00</td>\n",
       "      <td>492474</td>\n",
       "      <td>SV Zulte-Waregem</td>\n",
       "      <td>Sporting Lokeren</td>\n",
       "      <td>0</td>\n",
       "      <td>0</td>\n",
       "      <td>0</td>\n",
       "      <td>Draw</td>\n",
       "    </tr>\n",
       "    <tr>\n",
       "      <th>2</th>\n",
       "      <td>3</td>\n",
       "      <td>Belgium</td>\n",
       "      <td>Belgium Jupiler League</td>\n",
       "      <td>2008/2009</td>\n",
       "      <td>1</td>\n",
       "      <td>16/08/2008 0:00</td>\n",
       "      <td>492475</td>\n",
       "      <td>KSV Cercle Brugge</td>\n",
       "      <td>RSC Anderlecht</td>\n",
       "      <td>0</td>\n",
       "      <td>3</td>\n",
       "      <td>3</td>\n",
       "      <td>Away</td>\n",
       "    </tr>\n",
       "    <tr>\n",
       "      <th>3</th>\n",
       "      <td>4</td>\n",
       "      <td>Belgium</td>\n",
       "      <td>Belgium Jupiler League</td>\n",
       "      <td>2008/2009</td>\n",
       "      <td>1</td>\n",
       "      <td>17/08/2008 0:00</td>\n",
       "      <td>492476</td>\n",
       "      <td>KAA Gent</td>\n",
       "      <td>RAEC Mons</td>\n",
       "      <td>5</td>\n",
       "      <td>0</td>\n",
       "      <td>5</td>\n",
       "      <td>Home</td>\n",
       "    </tr>\n",
       "    <tr>\n",
       "      <th>4</th>\n",
       "      <td>5</td>\n",
       "      <td>Belgium</td>\n",
       "      <td>Belgium Jupiler League</td>\n",
       "      <td>2008/2009</td>\n",
       "      <td>1</td>\n",
       "      <td>16/08/2008 0:00</td>\n",
       "      <td>492477</td>\n",
       "      <td>FCV Dender EH</td>\n",
       "      <td>Standard de Liège</td>\n",
       "      <td>1</td>\n",
       "      <td>3</td>\n",
       "      <td>4</td>\n",
       "      <td>Away</td>\n",
       "    </tr>\n",
       "  </tbody>\n",
       "</table>\n",
       "</div>"
      ],
      "text/plain": [
       "   id country_id               league_id     season  stage             date  \\\n",
       "0   1    Belgium  Belgium Jupiler League  2008/2009      1  17/08/2008 0:00   \n",
       "1   2    Belgium  Belgium Jupiler League  2008/2009      1  16/08/2008 0:00   \n",
       "2   3    Belgium  Belgium Jupiler League  2008/2009      1  16/08/2008 0:00   \n",
       "3   4    Belgium  Belgium Jupiler League  2008/2009      1  17/08/2008 0:00   \n",
       "4   5    Belgium  Belgium Jupiler League  2008/2009      1  16/08/2008 0:00   \n",
       "\n",
       "   match_api_id   home_team_api_id   away_team_api_id  home_team_goal  \\\n",
       "0        492473           KRC Genk       Beerschot AC               1   \n",
       "1        492474   SV Zulte-Waregem   Sporting Lokeren               0   \n",
       "2        492475  KSV Cercle Brugge     RSC Anderlecht               0   \n",
       "3        492476           KAA Gent          RAEC Mons               5   \n",
       "4        492477      FCV Dender EH  Standard de Liège               1   \n",
       "\n",
       "   away_team_goal  total_goals winner  \n",
       "0               1            2   Draw  \n",
       "1               0            0   Draw  \n",
       "2               3            3   Away  \n",
       "3               0            5   Home  \n",
       "4               3            4   Away  "
      ]
     },
     "execution_count": 49,
     "metadata": {},
     "output_type": "execute_result"
    }
   ],
   "source": [
    "df_cleaned.head() #Getting the first 5 rows"
   ]
  },
  {
   "cell_type": "markdown",
   "metadata": {},
   "source": [
    "<a id='eda'></a>\n",
    "## Exploratory Data Analysis\n",
    "\n",
    "### Research Question 1 (What is the league with the least and most total goals per match?)"
   ]
  },
  {
   "cell_type": "markdown",
   "metadata": {},
   "source": [
    "#### Firstly : Checking the number of games."
   ]
  },
  {
   "cell_type": "code",
   "execution_count": 50,
   "metadata": {},
   "outputs": [
    {
     "data": {
      "text/plain": [
       "league_id\n",
       "Belgium Jupiler League      1728\n",
       "England Premier League      3040\n",
       "France Ligue 1              3040\n",
       "Germany 1. Bundesliga       2448\n",
       "Italy Serie A               3017\n",
       "Netherlands Eredivisie      2448\n",
       "Poland Ekstraklasa          1920\n",
       "Portugal Liga ZON Sagres    2052\n",
       "Scotland Premier League     1824\n",
       "Spain LIGA BBVA             3040\n",
       "Switzerland Super League    1422\n",
       "Name: league_id, dtype: int64"
      ]
     },
     "execution_count": 50,
     "metadata": {},
     "output_type": "execute_result"
    }
   ],
   "source": [
    "num = df_cleaned.groupby([\"league_id\"])[\"league_id\"].count() #Counting the number of games of each league\n",
    "num"
   ]
  },
  {
   "cell_type": "markdown",
   "metadata": {},
   "source": [
    "#### Secondly: Getting the Goals"
   ]
  },
  {
   "cell_type": "code",
   "execution_count": 51,
   "metadata": {},
   "outputs": [
    {
     "data": {
      "text/plain": [
       "league_id\n",
       "Belgium Jupiler League      4841\n",
       "England Premier League      8240\n",
       "France Ligue 1              7427\n",
       "Germany 1. Bundesliga       7103\n",
       "Italy Serie A               7895\n",
       "Netherlands Eredivisie      7542\n",
       "Poland Ekstraklasa          4656\n",
       "Portugal Liga ZON Sagres    5201\n",
       "Scotland Premier League     4804\n",
       "Spain LIGA BBVA             8412\n",
       "Switzerland Super League    4166\n",
       "Name: total_goals, dtype: int64"
      ]
     },
     "execution_count": 51,
     "metadata": {},
     "output_type": "execute_result"
    }
   ],
   "source": [
    "goals = df_cleaned.groupby([\"league_id\"])[\"total_goals\"].sum() #Adding the goals for different leagues\n",
    "goals"
   ]
  },
  {
   "cell_type": "markdown",
   "metadata": {},
   "source": [
    "#### Thirdly : Getting the mean"
   ]
  },
  {
   "cell_type": "code",
   "execution_count": 52,
   "metadata": {},
   "outputs": [
    {
     "data": {
      "text/plain": [
       "league_id\n",
       "Belgium Jupiler League      2.801505\n",
       "England Premier League      2.710526\n",
       "France Ligue 1              2.443092\n",
       "Germany 1. Bundesliga       2.901552\n",
       "Italy Serie A               2.616838\n",
       "Netherlands Eredivisie      3.080882\n",
       "Poland Ekstraklasa          2.425000\n",
       "Portugal Liga ZON Sagres    2.534600\n",
       "Scotland Premier League     2.633772\n",
       "Spain LIGA BBVA             2.767105\n",
       "Switzerland Super League    2.929677\n",
       "dtype: float64"
      ]
     },
     "execution_count": 52,
     "metadata": {},
     "output_type": "execute_result"
    }
   ],
   "source": [
    "result1 = goals / num #Dividing the goals by the number of games\n",
    "result1"
   ]
  },
  {
   "cell_type": "code",
   "execution_count": 53,
   "metadata": {},
   "outputs": [
    {
     "data": {
      "text/plain": [
       "league_id\n",
       "Netherlands Eredivisie    3.080882\n",
       "dtype: float64"
      ]
     },
     "execution_count": 53,
     "metadata": {},
     "output_type": "execute_result"
    }
   ],
   "source": [
    "result1[result1 == np.max(result1)] #Getting the max value"
   ]
  },
  {
   "cell_type": "code",
   "execution_count": 54,
   "metadata": {},
   "outputs": [
    {
     "data": {
      "text/plain": [
       "league_id\n",
       "Poland Ekstraklasa    2.425\n",
       "dtype: float64"
      ]
     },
     "execution_count": 54,
     "metadata": {},
     "output_type": "execute_result"
    }
   ],
   "source": [
    "result1[result1 == np.min(result1)] #Getting the min value"
   ]
  },
  {
   "cell_type": "markdown",
   "metadata": {},
   "source": [
    "#### Fourthly : Plotting"
   ]
  },
  {
   "cell_type": "code",
   "execution_count": 55,
   "metadata": {
    "scrolled": true
   },
   "outputs": [
    {
     "data": {
      "image/png": "[encoded data removed]",
      "text/plain": [
       "<matplotlib.figure.Figure at 0x7f8763e77198>"
      ]
     },
     "metadata": {
      "needs_background": "light"
     },
     "output_type": "display_data"
    }
   ],
   "source": [
    "Leagues = result1.index #X-Axis\n",
    "goal = result1.values #Y-Axis\n",
    "plt.figure(figsize=(30, 10)) #Setting the size of the plot\n",
    "plt.bar(Leagues, goal);"
   ]
  },
  {
   "cell_type": "markdown",
   "metadata": {},
   "source": [
    "#### We can see that Poland Ekstraklasa has the least number of goals while Netherlands Eredivisie has the highest one."
   ]
  },
  {
   "cell_type": "markdown",
   "metadata": {},
   "source": [
    "### Research Question 2  (What is the league with the lowest and highest percentage of draws per game?)"
   ]
  },
  {
   "cell_type": "markdown",
   "metadata": {},
   "source": [
    "#### Secondly : Checking the number of draws"
   ]
  },
  {
   "cell_type": "code",
   "execution_count": 56,
   "metadata": {},
   "outputs": [
    {
     "data": {
      "text/plain": [
       "league_id\n",
       "Belgium Jupiler League      425\n",
       "England Premier League      783\n",
       "France Ligue 1              859\n",
       "Germany 1. Bundesliga       597\n",
       "Italy Serie A               796\n",
       "Netherlands Eredivisie      581\n",
       "Poland Ekstraklasa          525\n",
       "Portugal Liga ZON Sagres    533\n",
       "Scotland Premier League     447\n",
       "Spain LIGA BBVA             704\n",
       "Switzerland Super League    346\n",
       "Name: winner, dtype: int64"
      ]
     },
     "execution_count": 56,
     "metadata": {},
     "output_type": "execute_result"
    }
   ],
   "source": [
    " #Adding the number of draws for each league:\n",
    "draw = df_cleaned.groupby([\"league_id\"])[\"winner\"].apply(lambda x: (x == \"Draw\").sum())\n",
    "draw"
   ]
  },
  {
   "cell_type": "markdown",
   "metadata": {},
   "source": [
    "#### Thirdly : Getting the percentage"
   ]
  },
  {
   "cell_type": "code",
   "execution_count": 57,
   "metadata": {},
   "outputs": [
    {
     "data": {
      "text/plain": [
       "league_id\n",
       "Belgium Jupiler League      24.594907\n",
       "England Premier League      25.756579\n",
       "France Ligue 1              28.256579\n",
       "Germany 1. Bundesliga       24.387255\n",
       "Italy Serie A               26.383825\n",
       "Netherlands Eredivisie      23.733660\n",
       "Poland Ekstraklasa          27.343750\n",
       "Portugal Liga ZON Sagres    25.974659\n",
       "Scotland Premier League     24.506579\n",
       "Spain LIGA BBVA             23.157895\n",
       "Switzerland Super League    24.331927\n",
       "dtype: float64"
      ]
     },
     "execution_count": 57,
     "metadata": {},
     "output_type": "execute_result"
    }
   ],
   "source": [
    "result2 = draw / num * 100 #Dividing the number of draws by the number of games the multiplying it by 100 to get the percentage\n",
    "result2 "
   ]
  },
  {
   "cell_type": "markdown",
   "metadata": {},
   "source": [
    "#### Fourthly : Plotting"
   ]
  },
  {
   "cell_type": "code",
   "execution_count": 58,
   "metadata": {},
   "outputs": [
    {
     "data": {
      "image/png": "[encoded data removed]",
      "text/plain": [
       "<matplotlib.figure.Figure at 0x7f8763ca1c88>"
      ]
     },
     "metadata": {
      "needs_background": "light"
     },
     "output_type": "display_data"
    }
   ],
   "source": [
    "plt.figure(figsize=(30, 10)) #Setting the size of the plot\n",
    "Leagues = result2.index #X-Axis\n",
    "Draws = result2.values #Y-Axis\n",
    "plt.bar(Leagues, Draws, color = \"purple\");"
   ]
  },
  {
   "cell_type": "markdown",
   "metadata": {},
   "source": [
    "#### We can see that France league 1 has the highest draws percentage while Spain liga has the lowest one."
   ]
  },
  {
   "cell_type": "markdown",
   "metadata": {},
   "source": [
    "### Research Question 3  (How does scoring home goals correlate to the scoring of the away goals ?)"
   ]
  },
  {
   "cell_type": "code",
   "execution_count": 86,
   "metadata": {},
   "outputs": [
    {
     "data": {
      "image/png": "[encoded data removed]",
      "text/plain": [
       "<matplotlib.figure.Figure at 0x7f8763a03358>"
      ]
     },
     "metadata": {
      "needs_background": "light"
     },
     "output_type": "display_data"
    }
   ],
   "source": [
    "#X-axis ---> home team goals\n",
    "#Y-axis ---> away team goals\n",
    "plt.scatter(df_cleaned[\"home_team_goal\"], df_cleaned[\"away_team_goal\"], color =\"green\");"
   ]
  },
  {
   "cell_type": "markdown",
   "metadata": {},
   "source": [
    "#### We can see that it is a negative correlation."
   ]
  },
  {
   "cell_type": "markdown",
   "metadata": {},
   "source": [
    "### Research Question 4 (Do home teams win more games than away teams?)"
   ]
  },
  {
   "cell_type": "code",
   "execution_count": 60,
   "metadata": {},
   "outputs": [
    {
     "name": "stdout",
     "output_type": "stream",
     "text": [
      "Home wins: 11917\n",
      "Draws: 6596\n",
      "Away wins: 7466\n"
     ]
    }
   ],
   "source": [
    "#Assigning the variables with their numbers:\n",
    "home , draw , away = sum(df_cleaned[\"winner\"] == \"Home\") , sum(df_cleaned[\"winner\"] == \"Draw\") , sum(df_cleaned[\"winner\"] == \"Away\")\n",
    "print(f\"Home wins: {home}\") #Printing the home wins\n",
    "print(f\"Draws: {draw}\") #Printing the draws\n",
    "print(f\"Away wins: {away}\") #Printing the away wins"
   ]
  },
  {
   "cell_type": "markdown",
   "metadata": {},
   "source": [
    "#### We can see that home teams win more games than away teams"
   ]
  },
  {
   "cell_type": "markdown",
   "metadata": {},
   "source": [
    "### Research Question 5  (Do later season matches have more or less goals?)"
   ]
  },
  {
   "cell_type": "code",
   "execution_count": 87,
   "metadata": {},
   "outputs": [
    {
     "data": {
      "image/png": "[encoded data removed]",
      "text/plain": [
       "<matplotlib.figure.Figure at 0x7f8763a23a90>"
      ]
     },
     "metadata": {
      "needs_background": "light"
     },
     "output_type": "display_data"
    }
   ],
   "source": [
    "#X-axis ---> stage\n",
    "#Y-axis ---> total goals\n",
    "plt.hist(df_cleaned[\"stage\"], bins=20, weights=df_cleaned[\"total_goals\"] ,color = \"orange\" , edgecolor=\"black\");"
   ]
  },
  {
   "cell_type": "markdown",
   "metadata": {},
   "source": [
    "#### We can see that goals at the last stages of the season, the teams score less."
   ]
  },
  {
   "cell_type": "markdown",
   "metadata": {},
   "source": [
    "<a id='conclusions'></a>\n",
    "## Conclusions of the research questions:\n",
    "<ul>\n",
    "    <li><h3>Research Question 1 (What is the league with the least and most total goals per match?)</h1>\n",
    "        <h4>The league with the least goals indicates either the weakest attackers or strongest defenders and vice versa. So the league with the strogest defenders or weakest attackers is <u>Poland Ekstraklasa</u> while the team with the strongest attackers or weakest defenders is <u>Netherlands Eredivisie</u>. </h4>\n",
    "    <li><h3>Research Question 2 (What is the league with the lowest and highest percentage of draws per game?)</h3>\n",
    "        <h4>The league with the most draws indicates the league with the least excitement for fans and vice versa. So the Most exciting league for fans is <u>Spain liga</u> while the least is <u>France league 1</u>. </h4>\n",
    "    <li><h3> Research Question 3 (How does scoring home goals correlate to the scoring of the away goals ?)</h3>\n",
    "        <h4>The resulted correlation is negative. So as The home goals increase, the away goals decrease. This indicates that as the score gets higher, the away teams tend to give up.</h4>\n",
    "    <li><h3> Research Question 4 (Do home teams win more games than away teams?)</h3>\n",
    "        <h4>The result indicates that teams playing at their stadiums tend to have an advantage over the teams playing away. This result can be due to the presence of the home team supporters in larger quantities</h4>\n",
    "    <li><h3> Research Question 5 (Do later season matches have more or less goals?)</h3>\n",
    "        <h4>The result indicates that at the end of the season, the teams' managers take a more defensive approach as they want to not lose their current position and win without too much risk. </h4>\n",
    "</ul>\n",
    "<h2>Additional research could be made:</h2>\n",
    "<ul>\n",
    "    <li>FIFA rankings\n",
    "    <li>Player statistics\n",
    "    <li>Transfer data\n",
    "</ul>\n",
    "\n",
    "<h2> Limitations of the dataset:</h2>\n",
    "<ul>\n",
    "    <li><h3>The changes in managers not mentioned: </h3>\n",
    "        New managers can either hinder the teams' preformance or make it better\n",
    "    <li><h3>New transfers not mentioned</h3>\n",
    "        New transfers can either hinder the teams' preformance or make it better\n",
    "    <li><h3>Luck and playing style Not Measured\t</h3>\n",
    "        The team can win their games by skill and great performance or by luck\n",
    "</ul>"
   ]
  },
  {
   "cell_type": "code",
   "execution_count": 62,
   "metadata": {},
   "outputs": [
    {
     "data": {
      "text/plain": [
       "0"
      ]
     },
     "execution_count": 62,
     "metadata": {},
     "output_type": "execute_result"
    }
   ],
   "source": [
    "from subprocess import call\n",
    "call(['python', '-m', 'nbconvert', 'Investigate_a_Dataset.ipynb'])"
   ]
  }
 ],
 "metadata": {
  "kernelspec": {
   "display_name": "Python 3",
   "language": "python",
   "name": "python3"
  },
  "language_info": {
   "codemirror_mode": {
    "name": "ipython",
    "version": 3
   },
   "file_extension": ".py",
   "mimetype": "text/x-python",
   "name": "python",
   "nbconvert_exporter": "python",
   "pygments_lexer": "ipython3",
   "version": "3.6.3"
  }
 },
 "nbformat": 4,
 "nbformat_minor": 2
}
